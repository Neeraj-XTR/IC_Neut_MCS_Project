{
 "cells": [
  {
   "cell_type": "markdown",
   "id": "0b3b3adb",
   "metadata": {},
   "source": [
    "# IceCube Upgrade: Neutrinos monte carlo simulation\n",
    "## Description\n",
    "The IceCube Upgrade is an upcoming extension to the IceCube neutrino observatory which will densely instrument a 2 Mton region in the deepest ice, within the existing DeepCore sub-array. This new sub-array will comprise 7 new strings featuring a total of nearly 700 multi-PMT optical modules (known as mDOMs and DEggs) at a vertical spacing of 3m, in addition to a host of new calibration devices.\n",
    "\n",
    "The IceCube Upgrade sub-array will offer significantly enhanced neutrino detection efficiency and reconstruction resolution relative to DeepCore, as well as lowering the energy threshold to provide sensitivity to O(1 GeV) neutrinos. Improved detector and ice calibration will enhance the performance of the entire IceCube array.\n",
    "## Data Source\n",
    "https://icecube.wisc.edu/data-releases/2020/04/icecube-upgrade-neutrino-monte-carlo-simulation/\n",
    "## Citation\n",
    "Suggested citation for this dataset:\n",
    "\n",
    "IceCube Collaboration (2020): IceCube Upgrade neutrino Monte Carlo simulation.\n",
    "DOI:10.21234/qfz1-yh02"
   ]
  },
  {
   "cell_type": "code",
   "execution_count": 1,
   "id": "1b0a0734",
   "metadata": {},
   "outputs": [],
   "source": [
    "########### unzipping\n",
    "import zipfile\n",
    "with zipfile.ZipFile(\"20200421_IceCube_Upgrade_Neutrino_Monte_Carlo_Simulation.zip\",\"r\") as zip_ref:\n",
    "    zip_ref.extractall(\"ExtractedFiles\")"
   ]
  },
  {
   "cell_type": "code",
   "execution_count": 2,
   "id": "b9e8c897",
   "metadata": {},
   "outputs": [],
   "source": [
    "############ Importing the data\n",
    "import pandas as pd\n",
    "import numpy as np\n",
    "dataset = pd.read_csv(\"ExtractedFiles/IceCubeUpgradeNeutrinoMCDataRelease/events/neutrino_mc.csv\")"
   ]
  },
  {
   "cell_type": "code",
   "execution_count": null,
   "id": "6733977b",
   "metadata": {},
   "outputs": [],
   "source": []
  }
 ],
 "metadata": {
  "kernelspec": {
   "display_name": "GPU",
   "language": "python",
   "name": "gpu"
  },
  "language_info": {
   "codemirror_mode": {
    "name": "ipython",
    "version": 3
   },
   "file_extension": ".py",
   "mimetype": "text/x-python",
   "name": "python",
   "nbconvert_exporter": "python",
   "pygments_lexer": "ipython3",
   "version": "3.9.16"
  }
 },
 "nbformat": 4,
 "nbformat_minor": 5
}
